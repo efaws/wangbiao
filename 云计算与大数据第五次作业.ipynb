{
 "cells": [
  {
   "cell_type": "code",
   "execution_count": 19,
   "metadata": {
    "scrolled": true
   },
   "outputs": [
    {
     "name": "stdout",
     "output_type": "stream",
     "text": [
      "请输入待查询的名字：王彪\n"
     ]
    },
    {
     "data": {
      "text/html": [
       "<table border=\"1\" class=\"dataframe\">\n",
       "    <thead>\n",
       "        <tr>\n",
       "            <th>科目</th> <th>日期</th> <th>时间</th> <th>教室</th>\n",
       "        </tr>\n",
       "    </thead>\n",
       "    <tbody>\n",
       "        <tr>\n",
       "            <td>[]      </td> <td>[]            </td> <td>[]             </td> <td>[]       </td>\n",
       "        </tr>\n",
       "        <tr>\n",
       "            <td>['hive']</td> <td>['2022/11/15']</td> <td>['14:30-16:30']</td> <td>['教一403']</td>\n",
       "        </tr>\n",
       "        <tr>\n",
       "            <td>[]      </td> <td>[]            </td> <td>[]             </td> <td>[]       </td>\n",
       "        </tr>\n",
       "        <tr>\n",
       "            <td>[]      </td> <td>[]            </td> <td>[]             </td> <td>[]       </td>\n",
       "        </tr>\n",
       "    </tbody>\n",
       "</table>"
      ],
      "text/plain": [
       "科目       | 日期             | 时间              | 教室\n",
       "[]       | []             | []              | []\n",
       "['hive'] | ['2022/11/15'] | ['14:30-16:30'] | ['教一403']\n",
       "[]       | []             | []              | []\n",
       "[]       | []             | []              | []"
      ]
     },
     "execution_count": 19,
     "metadata": {},
     "output_type": "execute_result"
    }
   ],
   "source": [
    "import datascience\n",
    "from datascience import *\n",
    "\n",
    "def table1(data,name):\n",
    "    temp = data.where(\"姓名\",name)\n",
    "    subject = temp[2]\n",
    "    date = temp[3]\n",
    "    time = temp[4]\n",
    "    classroom = temp[5]\n",
    "    return [subject,date,time,classroom]\n",
    "\n",
    "name = input('请输入待查询的名字：')\n",
    "\n",
    "data1 = Table.read_table('D:/cloud/homework/test/test_data/hadoop.csv')\n",
    "data2 = Table.read_table('D:/cloud/homework/test/test_data/hive.csv')\n",
    "data3 = Table.read_table('D:/cloud/homework/test/test_data/spark.csv')\n",
    "data4 = Table.read_table('D:/cloud/homework/test/test_data/高数监考表.csv')\n",
    "\n",
    "#data4.show()\n",
    "\n",
    "inform0 = table1(data1,name)\n",
    "inform1 = table1(data2,name)\n",
    "inform2 = table1(data3,name)\n",
    "inform3 = table1(data4,name)\n",
    "\n",
    "\n",
    "subject = (inform0[3],inform1[3],inform2[3],inform3[3])\n",
    "date = (inform0[0],inform1[0],inform2[0],inform3[0])\n",
    "time = (inform0[1],inform1[1],inform2[1],inform3[1])\n",
    "classroom = (inform0[2],inform1[2],inform2[2],inform3[2])\n",
    "\n",
    "students=Table().with_columns(\"科目\",subject,\"日期\",date,\"时间\",time,\"教室\",classroom)\n",
    "students\n",
    "\n",
    "\n"
   ]
  },
  {
   "cell_type": "code",
   "execution_count": null,
   "metadata": {
    "collapsed": true
   },
   "outputs": [],
   "source": []
  }
 ],
 "metadata": {
  "kernelspec": {
   "display_name": "Python 3 (ipykernel)",
   "language": "python",
   "name": "python3"
  },
  "language_info": {
   "codemirror_mode": {
    "name": "ipython",
    "version": 3
   },
   "file_extension": ".py",
   "mimetype": "text/x-python",
   "name": "python",
   "nbconvert_exporter": "python",
   "pygments_lexer": "ipython3",
   "version": "3.9.5"
  }
 },
 "nbformat": 4,
 "nbformat_minor": 2
}
