{
 "cells": [
  {
   "cell_type": "code",
   "execution_count": 4,
   "metadata": {
    "scrolled": true
   },
   "outputs": [
    {
     "name": "stdout",
     "output_type": "stream",
     "text": [
      "Looking in indexes: https://pypi.tuna.tsinghua.edu.cn/simple\n",
      "Requirement already satisfied: datascience in c:\\users\\lenovo\\appdata\\local\\programs\\python\\python39\\lib\\site-packages (0.17.5)\n",
      "Requirement already satisfied: folium>=0.9.1 in c:\\users\\lenovo\\appdata\\local\\programs\\python\\python39\\lib\\site-packages (from datascience) (0.13.0)\n",
      "Requirement already satisfied: setuptools in c:\\users\\lenovo\\appdata\\local\\programs\\python\\python39\\lib\\site-packages (from datascience) (56.0.0)\n",
      "Requirement already satisfied: matplotlib>=3.0.0 in c:\\users\\lenovo\\appdata\\local\\programs\\python\\python39\\lib\\site-packages (from datascience) (3.6.2)\n",
      "Requirement already satisfied: pandas in c:\\users\\lenovo\\appdata\\local\\programs\\python\\python39\\lib\\site-packages (from datascience) (1.5.1)\n",
      "Requirement already satisfied: scipy in c:\\users\\lenovo\\appdata\\local\\programs\\python\\python39\\lib\\site-packages (from datascience) (1.9.3)\n",
      "Requirement already satisfied: numpy in c:\\users\\lenovo\\appdata\\local\\programs\\python\\python39\\lib\\site-packages (from datascience) (1.23.4)\n",
      "Requirement already satisfied: ipython in c:\\users\\lenovo\\appdata\\local\\programs\\python\\python39\\lib\\site-packages (from datascience) (8.4.0)\n",
      "Requirement already satisfied: plotly in c:\\users\\lenovo\\appdata\\local\\programs\\python\\python39\\lib\\site-packages (from datascience) (5.11.0)\n",
      "Requirement already satisfied: branca in c:\\users\\lenovo\\appdata\\local\\programs\\python\\python39\\lib\\site-packages (from datascience) (0.6.0)\n",
      "Requirement already satisfied: jinja2>=2.9 in c:\\users\\lenovo\\appdata\\local\\programs\\python\\python39\\lib\\site-packages (from folium>=0.9.1->datascience) (3.1.2)\n",
      "Requirement already satisfied: requests in c:\\users\\lenovo\\appdata\\local\\programs\\python\\python39\\lib\\site-packages (from folium>=0.9.1->datascience) (2.28.0)\n",
      "Requirement already satisfied: packaging>=20.0 in c:\\users\\lenovo\\appdata\\local\\programs\\python\\python39\\lib\\site-packages (from matplotlib>=3.0.0->datascience) (21.3)\n",
      "Requirement already satisfied: pillow>=6.2.0 in c:\\users\\lenovo\\appdata\\local\\programs\\python\\python39\\lib\\site-packages (from matplotlib>=3.0.0->datascience) (9.3.0)\n",
      "Requirement already satisfied: kiwisolver>=1.0.1 in c:\\users\\lenovo\\appdata\\local\\programs\\python\\python39\\lib\\site-packages (from matplotlib>=3.0.0->datascience) (1.4.4)\n",
      "Requirement already satisfied: contourpy>=1.0.1 in c:\\users\\lenovo\\appdata\\local\\programs\\python\\python39\\lib\\site-packages (from matplotlib>=3.0.0->datascience) (1.0.6)\n",
      "Requirement already satisfied: python-dateutil>=2.7 in c:\\users\\lenovo\\appdata\\local\\programs\\python\\python39\\lib\\site-packages (from matplotlib>=3.0.0->datascience) (2.8.2)\n",
      "Requirement already satisfied: fonttools>=4.22.0 in c:\\users\\lenovo\\appdata\\local\\programs\\python\\python39\\lib\\site-packages (from matplotlib>=3.0.0->datascience) (4.38.0)\n",
      "Requirement already satisfied: cycler>=0.10 in c:\\users\\lenovo\\appdata\\local\\programs\\python\\python39\\lib\\site-packages (from matplotlib>=3.0.0->datascience) (0.11.0)\n",
      "Requirement already satisfied: pyparsing>=2.2.1 in c:\\users\\lenovo\\appdata\\local\\programs\\python\\python39\\lib\\site-packages (from matplotlib>=3.0.0->datascience) (3.0.9)\n",
      "Requirement already satisfied: pygments>=2.4.0 in c:\\users\\lenovo\\appdata\\local\\programs\\python\\python39\\lib\\site-packages (from ipython->datascience) (2.12.0)\n",
      "Requirement already satisfied: traitlets>=5 in c:\\users\\lenovo\\appdata\\local\\programs\\python\\python39\\lib\\site-packages (from ipython->datascience) (5.3.0)\n",
      "Requirement already satisfied: stack-data in c:\\users\\lenovo\\appdata\\local\\programs\\python\\python39\\lib\\site-packages (from ipython->datascience) (0.3.0)\n",
      "Requirement already satisfied: matplotlib-inline in c:\\users\\lenovo\\appdata\\local\\programs\\python\\python39\\lib\\site-packages (from ipython->datascience) (0.1.3)\n",
      "Requirement already satisfied: colorama in c:\\users\\lenovo\\appdata\\local\\programs\\python\\python39\\lib\\site-packages (from ipython->datascience) (0.4.5)\n",
      "Requirement already satisfied: backcall in c:\\users\\lenovo\\appdata\\local\\programs\\python\\python39\\lib\\site-packages (from ipython->datascience) (0.2.0)\n",
      "Requirement already satisfied: pickleshare in c:\\users\\lenovo\\appdata\\local\\programs\\python\\python39\\lib\\site-packages (from ipython->datascience) (0.7.5)\n",
      "Requirement already satisfied: decorator in c:\\users\\lenovo\\appdata\\local\\programs\\python\\python39\\lib\\site-packages (from ipython->datascience) (5.1.1)\n",
      "Requirement already satisfied: prompt-toolkit!=3.0.0,!=3.0.1,<3.1.0,>=2.0.0 in c:\\users\\lenovo\\appdata\\local\\programs\\python\\python39\\lib\\site-packages (from ipython->datascience) (3.0.29)\n",
      "Requirement already satisfied: jedi>=0.16 in c:\\users\\lenovo\\appdata\\local\\programs\\python\\python39\\lib\\site-packages (from ipython->datascience) (0.18.1)\n",
      "Requirement already satisfied: pytz>=2020.1 in c:\\users\\lenovo\\appdata\\local\\programs\\python\\python39\\lib\\site-packages (from pandas->datascience) (2022.6)\n",
      "Requirement already satisfied: tenacity>=6.2.0 in c:\\users\\lenovo\\appdata\\local\\programs\\python\\python39\\lib\\site-packages (from plotly->datascience) (8.1.0)\n",
      "Requirement already satisfied: parso<0.9.0,>=0.8.0 in c:\\users\\lenovo\\appdata\\local\\programs\\python\\python39\\lib\\site-packages (from jedi>=0.16->ipython->datascience) (0.8.3)\n",
      "Requirement already satisfied: MarkupSafe>=2.0 in c:\\users\\lenovo\\appdata\\local\\programs\\python\\python39\\lib\\site-packages (from jinja2>=2.9->folium>=0.9.1->datascience) (2.1.1)\n",
      "Requirement already satisfied: wcwidth in c:\\users\\lenovo\\appdata\\local\\programs\\python\\python39\\lib\\site-packages (from prompt-toolkit!=3.0.0,!=3.0.1,<3.1.0,>=2.0.0->ipython->datascience) (0.2.5)\n",
      "Requirement already satisfied: six>=1.5 in c:\\users\\lenovo\\appdata\\local\\programs\\python\\python39\\lib\\site-packages (from python-dateutil>=2.7->matplotlib>=3.0.0->datascience) (1.16.0)\n",
      "Requirement already satisfied: idna<4,>=2.5 in c:\\users\\lenovo\\appdata\\local\\programs\\python\\python39\\lib\\site-packages (from requests->folium>=0.9.1->datascience) (3.3)\n",
      "Requirement already satisfied: charset-normalizer~=2.0.0 in c:\\users\\lenovo\\appdata\\local\\programs\\python\\python39\\lib\\site-packages (from requests->folium>=0.9.1->datascience) (2.0.12)\n",
      "Requirement already satisfied: urllib3<1.27,>=1.21.1 in c:\\users\\lenovo\\appdata\\local\\programs\\python\\python39\\lib\\site-packages (from requests->folium>=0.9.1->datascience) (1.26.9)\n",
      "Requirement already satisfied: certifi>=2017.4.17 in c:\\users\\lenovo\\appdata\\local\\programs\\python\\python39\\lib\\site-packages (from requests->folium>=0.9.1->datascience) (2022.5.18.1)\n",
      "Requirement already satisfied: pure-eval in c:\\users\\lenovo\\appdata\\local\\programs\\python\\python39\\lib\\site-packages (from stack-data->ipython->datascience) (0.2.2)\n",
      "Requirement already satisfied: asttokens in c:\\users\\lenovo\\appdata\\local\\programs\\python\\python39\\lib\\site-packages (from stack-data->ipython->datascience) (2.0.5)\n",
      "Requirement already satisfied: executing in c:\\users\\lenovo\\appdata\\local\\programs\\python\\python39\\lib\\site-packages (from stack-data->ipython->datascience) (0.8.3)\n",
      "Note: you may need to restart the kernel to use updated packages.\n"
     ]
    }
   ],
   "source": [
    "pip install datascience"
   ]
  },
  {
   "cell_type": "code",
   "execution_count": 16,
   "metadata": {
    "scrolled": false
   },
   "outputs": [
    {
     "name": "stdout",
     "output_type": "stream",
     "text": [
      "请输入待查询的名字：黄思哲\n",
      "请输入待查询的名字：周靖珊\n"
     ]
    },
    {
     "data": {
      "text/html": [
       "<table border=\"1\" class=\"dataframe\">\n",
       "    <thead>\n",
       "        <tr>\n",
       "            <th>黄思哲的年级排名</th> <th>周靖珊的年级排名</th>\n",
       "        </tr>\n",
       "    </thead>\n",
       "    <tbody>\n",
       "        <tr>\n",
       "            <td>512     </td> <td>364     </td>\n",
       "        </tr>\n",
       "        <tr>\n",
       "            <td>419     </td> <td>443     </td>\n",
       "        </tr>\n",
       "        <tr>\n",
       "            <td>417     </td> <td>350     </td>\n",
       "        </tr>\n",
       "        <tr>\n",
       "            <td>467     </td> <td>429     </td>\n",
       "        </tr>\n",
       "        <tr>\n",
       "            <td>492     </td> <td>273     </td>\n",
       "        </tr>\n",
       "        <tr>\n",
       "            <td>632     </td> <td>296     </td>\n",
       "        </tr>\n",
       "        <tr>\n",
       "            <td>595     </td> <td>305     </td>\n",
       "        </tr>\n",
       "    </tbody>\n",
       "</table>"
      ],
      "text/plain": [
       "<IPython.core.display.HTML object>"
      ]
     },
     "metadata": {},
     "output_type": "display_data"
    },
    {
     "data": {
      "image/png": "[encoded data removed]",
      "text/plain": [
       "<Figure size 432x288 with 1 Axes>"
      ]
     },
     "metadata": {
      "needs_background": "light"
     },
     "output_type": "display_data"
    }
   ],
   "source": [
    "import datascience \n",
    "import matplotlib\n",
    "matplotlib.use('TkAgg')\n",
    "from datascience import *\n",
    "import matplotlib.pyplot as plt\n",
    "%matplotlib inline\n",
    "\n",
    "\n",
    "def extract_rank(data,name):\n",
    "    temp=data.where('姓名',are.equal_to(name)).column(11).item(0)\n",
    "    return temp\n",
    "\n",
    "data1=Table.read_table('D:/cloud/homework/grade/grade_data/20211105-utf-8.csv')\n",
    "data2=Table.read_table('D:/cloud/homework/grade/grade_data/20211106-utf-8.csv')\n",
    "data3=Table.read_table('D:/cloud/homework/grade/grade_data/20211107-utf-8.csv')\n",
    "data4=Table.read_table('D:/cloud/homework/grade/grade_data/20211108-utf-8.csv')\n",
    "data5=Table.read_table('D:/cloud/homework/grade/grade_data/20211109-utf-8.csv')\n",
    "data6=Table.read_table('D:/cloud/homework/grade/grade_data/20211109-1-utf-8.csv')\n",
    "data7=Table.read_table('D:/cloud/homework/grade/grade_data/20211110-utf-8.csv')\n",
    "\n",
    "\n",
    "#data1.show()\n",
    "#data1.sort('姓名',descending=True).show(5)\n",
    "\n",
    "#name1='黄思哲'\n",
    "\n",
    "name1 = input('请输入待查询的名字：')\n",
    "name2 = input('请输入待查询的名字：')\n",
    "\n",
    "rank1=extract_rank(data1,name1)\n",
    "rank2=extract_rank(data2,name1)\n",
    "rank3=extract_rank(data3,name1)\n",
    "rank4=extract_rank(data4,name1)\n",
    "rank5=extract_rank(data5,name1)\n",
    "rank6=extract_rank(data6,name1)\n",
    "rank7=extract_rank(data7,name1)\n",
    "\n",
    "#name2='周靖珊'\n",
    "\n",
    "rank11=extract_rank(data1,name2)\n",
    "rank22=extract_rank(data2,name2)\n",
    "rank33=extract_rank(data3,name2)\n",
    "rank44=extract_rank(data4,name2)\n",
    "rank55=extract_rank(data5,name2)\n",
    "rank66=extract_rank(data6,name2)\n",
    "rank77=extract_rank(data7,name2)\n",
    "\n",
    "rank_array1=make_array(rank1,rank2,rank3,rank4,rank5,rank6,rank7)\n",
    "rank_array2=make_array(rank11,rank22,rank33,rank44,rank55,rank66,rank77)\n",
    "result1=Table().with_columns(name1+'的年级排名',rank_array1,name2+'的年级排名',rank_array2)\n",
    "\n",
    "result1.show()\n",
    "\n",
    "\n",
    "plt.plot(make_array(1,2,3,4,5,6,7),rank_array1,'o--',label=name1)\n",
    "plt.plot(make_array(1,2,3,4,5,6,7),rank_array2,'o--r',label=name2)\n",
    "\n",
    "plt.title(name1 +'和'+ name2 + '历次年级排名趋势图')\n",
    "plt.xlabel('历次考试')\n",
    "plt.ylabel('历次年级排名')\n",
    "\n",
    "plt.axis([0,10,0,750])\n",
    "plt.legend(loc='upper right')\n",
    "\n",
    "plt.rcParams['font.sans-serif']=['Microsoft YaHei']\n",
    "\n",
    "plt.grid()\n",
    "plt.show()\n",
    "\n",
    "#print(rank_array)\n",
    "\n",
    "#result2\n"
   ]
  },
  {
   "cell_type": "code",
   "execution_count": null,
   "metadata": {},
   "outputs": [],
   "source": []
  },
  {
   "cell_type": "code",
   "execution_count": null,
   "metadata": {},
   "outputs": [],
   "source": []
  },
  {
   "cell_type": "code",
   "execution_count": null,
   "metadata": {},
   "outputs": [],
   "source": []
  }
 ],
 "metadata": {
  "kernelspec": {
   "display_name": "Python 3 (ipykernel)",
   "language": "python",
   "name": "python3"
  },
  "language_info": {
   "codemirror_mode": {
    "name": "ipython",
    "version": 3
   },
   "file_extension": ".py",
   "mimetype": "text/x-python",
   "name": "python",
   "nbconvert_exporter": "python",
   "pygments_lexer": "ipython3",
   "version": "3.9.5"
  }
 },
 "nbformat": 4,
 "nbformat_minor": 2
}
